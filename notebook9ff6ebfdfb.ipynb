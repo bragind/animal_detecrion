{
 "cells": [
  {
   "cell_type": "code",
   "execution_count": 3,
   "metadata": {
    "execution": {
     "iopub.execute_input": "2024-12-19T17:53:22.650389Z",
     "iopub.status.busy": "2024-12-19T17:53:22.649933Z",
     "iopub.status.idle": "2024-12-19T17:53:38.300122Z",
     "shell.execute_reply": "2024-12-19T17:53:38.298889Z",
     "shell.execute_reply.started": "2024-12-19T17:53:22.650320Z"
    },
    "trusted": true
   },
   "outputs": [],
   "source": [
    "import os\n",
    "import numpy as np\n",
    "import pandas as pd\n",
    "import tensorflow as tf\n",
    "from PIL import Image\n",
    "import matplotlib.pyplot as plt "
   ]
  },
  {
   "cell_type": "markdown",
   "metadata": {},
   "source": [
    "### Importing Versions"
   ]
  },
  {
   "cell_type": "markdown",
   "metadata": {},
   "source": []
  },
  {
   "cell_type": "code",
   "execution_count": 4,
   "metadata": {
    "execution": {
     "iopub.execute_input": "2024-12-19T17:53:38.307571Z",
     "iopub.status.busy": "2024-12-19T17:53:38.307116Z",
     "iopub.status.idle": "2024-12-19T17:53:38.314971Z",
     "shell.execute_reply": "2024-12-19T17:53:38.313659Z",
     "shell.execute_reply.started": "2024-12-19T17:53:38.307523Z"
    },
    "trusted": true
   },
   "outputs": [
    {
     "name": "stdout",
     "output_type": "stream",
     "text": [
      "2.18.0\n",
      "2.0.2\n",
      "2.2.3\n"
     ]
    }
   ],
   "source": [
    "print(tf.__version__)\n",
    "print(np.__version__)\n",
    "print(pd.__version__)"
   ]
  },
  {
   "cell_type": "markdown",
   "metadata": {},
   "source": [
    "### Constants"
   ]
  },
  {
   "cell_type": "code",
   "execution_count": 5,
   "metadata": {
    "execution": {
     "iopub.execute_input": "2024-12-19T17:53:44.941231Z",
     "iopub.status.busy": "2024-12-19T17:53:44.940862Z",
     "iopub.status.idle": "2024-12-19T17:53:44.966417Z",
     "shell.execute_reply": "2024-12-19T17:53:44.964897Z",
     "shell.execute_reply.started": "2024-12-19T17:53:44.941198Z"
    },
    "trusted": true
   },
   "outputs": [],
   "source": [
    "TRAIN_DIR = \"D://animals-detection-images-dataset_//train\"\n",
    "TEST_DIR = \"D://animals-detection-images-dataset_//test\"\n",
    "NUM_CLASSES = len(os.listdir(TRAIN_DIR))\n",
    "IMAGE_SIZE = 600\n",
    "BATCH_SIZE = 32\n",
    "EPOCHS = 6\n",
    "IMAGE_TARGET_SIZE = (IMAGE_SIZE, IMAGE_SIZE)"
   ]
  },
  {
   "cell_type": "markdown",
   "metadata": {},
   "source": [
    "### Build the model"
   ]
  },
  {
   "cell_type": "code",
   "execution_count": 6,
   "metadata": {
    "execution": {
     "iopub.execute_input": "2024-12-19T17:53:50.170055Z",
     "iopub.status.busy": "2024-12-19T17:53:50.169647Z",
     "iopub.status.idle": "2024-12-19T17:53:50.308692Z",
     "shell.execute_reply": "2024-12-19T17:53:50.307430Z",
     "shell.execute_reply.started": "2024-12-19T17:53:50.170021Z"
    },
    "trusted": true
   },
   "outputs": [],
   "source": [
    "img_augmentation = tf.keras.Sequential(\n",
    "    [\n",
    "        tf.keras.layers.RandomRotation(factor=0.15),\n",
    "        tf.keras.layers.RandomTranslation(\n",
    "            height_factor=0.1,\n",
    "            width_factor=0.1,\n",
    "        ),\n",
    "        tf.keras.layers.RandomFlip(),\n",
    "        tf.keras.layers.RandomContrast(factor=0.1),\n",
    "    ],\n",
    "    name=\"img_augmentation\",\n",
    ")\n",
    "\n",
    "\n",
    "\n",
    "def build_model() -> \"tf.keras.Model\":\n",
    "    inputs = tf.keras.layers.Input(shape=(IMAGE_SIZE, IMAGE_SIZE, 3))\n",
    "    x = img_augmentation(inputs)\n",
    "\n",
    "    model = tf.keras.applications.EfficientNetB7(\n",
    "        include_top=False,\n",
    "        input_tensor=x,\n",
    "        weights=\"imagenet\",\n",
    "    )\n",
    "\n",
    "    # Freeze the pretrained weights\n",
    "    model.trainable = False\n",
    "\n",
    "    # Rebuild top\n",
    "    x = tf.keras.layers.GlobalAveragePooling2D(name=\"avg_pool\")(model.output)\n",
    "    x = tf.keras.layers.BatchNormalization()(x)\n",
    "    x = tf.keras.layers.Dropout(0.2, name=\"top_dropout\")(x)\n",
    "    outputs = tf.keras.layers.Dense(\n",
    "        NUM_CLASSES,\n",
    "        activation=\"softmax\",\n",
    "        name=\"pred\",\n",
    "    )(x)\n",
    "\n",
    "    # Compile\n",
    "    model = tf.keras.Model(inputs, outputs, name=\"EfficientNet\")\n",
    "    model.compile(\n",
    "        optimizer=tf.keras.optimizers.Adam(learning_rate=1e-2),\n",
    "        loss=tf.keras.losses.CategoricalCrossentropy(),\n",
    "        metrics=[\"accuracy\"],\n",
    "    )\n",
    "    return model\n",
    "\n",
    "\n",
    "def unfreeze_model(model: \"tf.keras.Model\"):\n",
    "    # unfreeze the top 20 layers while leaving BatchNorm layers frozen\n",
    "    for layer in model.layers[-20:]:\n",
    "        if not isinstance(layer, tf.keras.layers.BatchNormalization):\n",
    "            layer.trainable = True\n",
    "\n",
    "    model.compile(\n",
    "        optimizer=tf.keras.optimizers.Adam(learning_rate=1e-4),\n",
    "        loss=tf.keras.losses.CategoricalCrossentropy(),\n",
    "        metrics=[\"accuracy\"],\n",
    "    )"
   ]
  },
  {
   "cell_type": "markdown",
   "metadata": {},
   "source": [
    "### Train the model"
   ]
  },
  {
   "cell_type": "code",
   "execution_count": 7,
   "metadata": {
    "execution": {
     "iopub.execute_input": "2024-12-19T15:57:06.475864Z",
     "iopub.status.busy": "2024-12-19T15:57:06.475453Z",
     "iopub.status.idle": "2024-12-19T15:57:45.419322Z",
     "shell.execute_reply": "2024-12-19T15:57:45.417464Z",
     "shell.execute_reply.started": "2024-12-19T15:57:06.475822Z"
    },
    "trusted": true
   },
   "outputs": [
    {
     "name": "stdout",
     "output_type": "stream",
     "text": [
      "Found 195 images belonging to 3 classes.\n",
      "Found 47 images belonging to 3 classes.\n",
      "Found 151 images belonging to 3 classes.\n"
     ]
    },
    {
     "name": "stderr",
     "output_type": "stream",
     "text": [
      "c:\\Users\\diman\\AppData\\Local\\Programs\\Python\\Python39\\lib\\site-packages\\keras\\src\\trainers\\data_adapters\\py_dataset_adapter.py:121: UserWarning: Your `PyDataset` class should call `super().__init__(**kwargs)` in its constructor. `**kwargs` can include `workers`, `use_multiprocessing`, `max_queue_size`. Do not pass these arguments to `fit()`, as they will be ignored.\n",
      "  self._warn_if_super_not_called()\n"
     ]
    },
    {
     "name": "stdout",
     "output_type": "stream",
     "text": [
      "Epoch 1/6\n",
      "\u001b[1m7/7\u001b[0m \u001b[32m━━━━━━━━━━━━━━━━━━━━\u001b[0m\u001b[37m\u001b[0m \u001b[1m373s\u001b[0m 47s/step - accuracy: 0.4493 - loss: 1.4100 - val_accuracy: 0.8936 - val_loss: 0.7661\n",
      "Epoch 2/6\n",
      "\u001b[1m7/7\u001b[0m \u001b[32m━━━━━━━━━━━━━━━━━━━━\u001b[0m\u001b[37m\u001b[0m \u001b[1m313s\u001b[0m 45s/step - accuracy: 0.7796 - loss: 0.5976 - val_accuracy: 0.9574 - val_loss: 0.6700\n",
      "Epoch 3/6\n",
      "\u001b[1m7/7\u001b[0m \u001b[32m━━━━━━━━━━━━━━━━━━━━\u001b[0m\u001b[37m\u001b[0m \u001b[1m311s\u001b[0m 45s/step - accuracy: 0.8517 - loss: 0.3695 - val_accuracy: 0.9362 - val_loss: 0.6307\n",
      "Epoch 4/6\n",
      "\u001b[1m7/7\u001b[0m \u001b[32m━━━━━━━━━━━━━━━━━━━━\u001b[0m\u001b[37m\u001b[0m \u001b[1m310s\u001b[0m 45s/step - accuracy: 0.8657 - loss: 0.3689 - val_accuracy: 0.9362 - val_loss: 0.6135\n",
      "Epoch 5/6\n",
      "\u001b[1m7/7\u001b[0m \u001b[32m━━━━━━━━━━━━━━━━━━━━\u001b[0m\u001b[37m\u001b[0m \u001b[1m311s\u001b[0m 45s/step - accuracy: 0.8688 - loss: 0.3415 - val_accuracy: 0.9574 - val_loss: 0.6008\n",
      "Epoch 6/6\n",
      "\u001b[1m7/7\u001b[0m \u001b[32m━━━━━━━━━━━━━━━━━━━━\u001b[0m\u001b[37m\u001b[0m \u001b[1m311s\u001b[0m 45s/step - accuracy: 0.9116 - loss: 0.3155 - val_accuracy: 0.9574 - val_loss: 0.5860\n"
     ]
    }
   ],
   "source": [
    "model = build_model()\n",
    "unfreeze_model(model)\n",
    "\n",
    "train_image_generator = tf.keras.preprocessing.image.ImageDataGenerator(\n",
    "    preprocessing_function=tf.keras.applications.efficientnet.preprocess_input,\n",
    "    validation_split=0.2,\n",
    ")\n",
    "train_batches = train_image_generator.flow_from_directory(\n",
    "    directory=TRAIN_DIR,\n",
    "    target_size=IMAGE_TARGET_SIZE,\n",
    "    batch_size=BATCH_SIZE,\n",
    "    subset=\"training\",\n",
    ")\n",
    "valid_batches = train_image_generator.flow_from_directory(\n",
    "    directory=TRAIN_DIR,\n",
    "    target_size=IMAGE_TARGET_SIZE,\n",
    "    batch_size=BATCH_SIZE,\n",
    "    subset=\"validation\",\n",
    ")\n",
    "test_batches = tf.keras.preprocessing.image.ImageDataGenerator(\n",
    "    preprocessing_function=tf.keras.applications.efficientnet.preprocess_input\n",
    ").flow_from_directory(\n",
    "    directory=TEST_DIR,\n",
    "    target_size=IMAGE_TARGET_SIZE,\n",
    "    batch_size=BATCH_SIZE,\n",
    "    shuffle=False,\n",
    ")\n",
    "\n",
    "history = model.fit(\n",
    "    train_batches,\n",
    "    epochs=EPOCHS,\n",
    "    validation_data=valid_batches,\n",
    ")"
   ]
  },
  {
   "cell_type": "markdown",
   "metadata": {},
   "source": [
    "### Visualize the training results"
   ]
  },
  {
   "cell_type": "code",
   "execution_count": 8,
   "metadata": {
    "execution": {
     "iopub.status.busy": "2024-12-18T19:11:16.562501Z",
     "iopub.status.idle": "2024-12-18T19:11:16.562909Z",
     "shell.execute_reply": "2024-12-18T19:11:16.562743Z",
     "shell.execute_reply.started": "2024-12-18T19:11:16.562724Z"
    },
    "trusted": true
   },
   "outputs": [],
   "source": [
    "epochs_range = range(EPOCHS)\n",
    "\n",
    "training_acc = history.history[\"accuracy\"]\n",
    "validation_acc = history.history[\"val_accuracy\"]\n",
    "training_loss = history.history[\"loss\"]\n",
    "validation_loss = history.history[\"val_loss\"]\n",
    "acc_df = pd.DataFrame(\n",
    "    {\"Training Accuracy\": training_acc, \"Validation Accuracy\": validation_acc},\n",
    "    index=epochs_range,\n",
    ")\n",
    "loss_df = pd.DataFrame(\n",
    "    {\"Training Loss\": training_loss, \"Validation Loss\": validation_loss},\n",
    "    index=epochs_range,\n",
    ")"
   ]
  },
  {
   "cell_type": "code",
   "execution_count": 32,
   "metadata": {
    "execution": {
     "iopub.status.busy": "2024-12-18T19:11:16.564003Z",
     "iopub.status.idle": "2024-12-18T19:11:16.564418Z",
     "shell.execute_reply": "2024-12-18T19:11:16.564255Z",
     "shell.execute_reply.started": "2024-12-18T19:11:16.564235Z"
    },
    "trusted": true
   },
   "outputs": [
    {
     "data": {
      "text/plain": [
       "<Axes: >"
      ]
     },
     "execution_count": 32,
     "metadata": {},
     "output_type": "execute_result"
    },
    {
     "data": {
      "image/png": "[encoded data removed]",
      "text/plain": [
       "<Figure size 640x480 with 1 Axes>"
      ]
     },
     "metadata": {},
     "output_type": "display_data"
    }
   ],
   "source": [
    "# Plot Accuracy\n",
    "acc_df.plot()"
   ]
  },
  {
   "cell_type": "code",
   "execution_count": 33,
   "metadata": {
    "execution": {
     "iopub.status.busy": "2024-12-18T19:11:16.566576Z",
     "iopub.status.idle": "2024-12-18T19:11:16.566958Z",
     "shell.execute_reply": "2024-12-18T19:11:16.566804Z",
     "shell.execute_reply.started": "2024-12-18T19:11:16.566786Z"
    },
    "trusted": true
   },
   "outputs": [
    {
     "data": {
      "text/plain": [
       "<Axes: >"
      ]
     },
     "execution_count": 33,
     "metadata": {},
     "output_type": "execute_result"
    },
    {
     "data": {
      "image/png": "[encoded data removed]",
      "text/plain": [
       "<Figure size 640x480 with 1 Axes>"
      ]
     },
     "metadata": {},
     "output_type": "display_data"
    }
   ],
   "source": [
    "# Plot Loss\n",
    "loss_df.plot()"
   ]
  },
  {
   "cell_type": "markdown",
   "metadata": {},
   "source": [
    "### Test the model"
   ]
  },
  {
   "cell_type": "code",
   "execution_count": 9,
   "metadata": {
    "execution": {
     "iopub.status.busy": "2024-12-18T19:11:16.568547Z",
     "iopub.status.idle": "2024-12-18T19:11:16.568987Z",
     "shell.execute_reply": "2024-12-18T19:11:16.568812Z",
     "shell.execute_reply.started": "2024-12-18T19:11:16.568791Z"
    },
    "trusted": true
   },
   "outputs": [
    {
     "name": "stdout",
     "output_type": "stream",
     "text": [
      "Test Labels [0 0 0 0 0 0 0 0 0 0 0 0 0 0 0 0 0 0 0 0 0 0 0 0 0 0 0 0 0 0 0 0 0 0 0 0 0\n",
      " 0 0 1 1 1 1 1 1 1 1 1 1 1 1 1 1 1 1 1 1 1 1 1 1 1 1 1 1 1 1 1 1 1 1 1 1 1\n",
      " 1 1 1 1 2 2 2 2 2 2 2 2 2 2 2 2 2 2 2 2 2 2 2 2 2 2 2 2 2 2 2 2 2 2 2 2 2\n",
      " 2 2 2 2 2 2 2 2 2 2 2 2 2 2 2 2 2 2 2 2 2 2 2 2 2 2 2 2 2 2 2 2 2 2 2 2 2\n",
      " 2 2 2]\n",
      "{'Bear': 0, 'Brown bear': 1, 'Bull': 2}\n",
      "\u001b[1m5/5\u001b[0m \u001b[32m━━━━━━━━━━━━━━━━━━━━\u001b[0m\u001b[37m\u001b[0m \u001b[1m198s\u001b[0m 38s/step\n",
      "Accuarcy: 66.88741721854305 %\n"
     ]
    }
   ],
   "source": [
    "test_labels = test_batches.classes\n",
    "print(\"Test Labels\", test_labels)\n",
    "print(test_batches.class_indices)\n",
    "predictions = model.predict(test_batches, steps=len(test_batches))\n",
    "acc = 0\n",
    "for i in range(len(test_labels)):\n",
    "    actual_class = test_labels[i]\n",
    "    if predictions[i][actual_class] > 0.5:\n",
    "        acc += 1\n",
    "print(\"Accuarcy:\", (acc / len(test_labels)) * 100, \"%\")"
   ]
  },
  {
   "cell_type": "markdown",
   "metadata": {},
   "source": [
    "### Visualize test results"
   ]
  },
  {
   "cell_type": "code",
   "execution_count": 10,
   "metadata": {
    "execution": {
     "iopub.status.busy": "2024-12-18T19:11:16.570141Z",
     "iopub.status.idle": "2024-12-18T19:11:16.570507Z",
     "shell.execute_reply": "2024-12-18T19:11:16.570354Z",
     "shell.execute_reply.started": "2024-12-18T19:11:16.570336Z"
    },
    "trusted": true
   },
   "outputs": [
    {
     "data": {
      "image/png": "[encoded data removed]",
      "text/plain": [
       "<Figure size 640x480 with 1 Axes>"
      ]
     },
     "metadata": {},
     "output_type": "display_data"
    }
   ],
   "source": [
    "import matplotlib.pyplot as plt\n",
    "\n",
    "values = [acc, len(test_labels) - acc]\n",
    "labels = ['Correct', 'Incorrect']\n",
    "\n",
    "fig, ax = plt.subplots()\n",
    "ax.pie(values, labels=labels, autopct='%1.1f%%')\n",
    "ax.set_title('Percentage of correct and incorrect predictions')\n",
    "plt.show()"
   ]
  },
  {
   "cell_type": "markdown",
   "metadata": {},
   "source": [
    "### Save a model"
   ]
  },
  {
   "cell_type": "code",
   "execution_count": 15,
   "metadata": {
    "execution": {
     "iopub.status.busy": "2024-12-18T19:11:16.572475Z",
     "iopub.status.idle": "2024-12-18T19:11:16.572889Z",
     "shell.execute_reply": "2024-12-18T19:11:16.572714Z",
     "shell.execute_reply.started": "2024-12-18T19:11:16.572694Z"
    },
    "trusted": true
   },
   "outputs": [
    {
     "name": "stderr",
     "output_type": "stream",
     "text": [
      "WARNING:absl:You are saving your model as an HDF5 file via `model.save()` or `keras.saving.save_model(model)`. This file format is considered legacy. We recommend using instead the native Keras format, e.g. `model.save('my_model.keras')` or `keras.saving.save_model(model, 'my_model.keras')`. \n"
     ]
    }
   ],
   "source": [
    "# Save the entire model (architecture, weights, and optimizer state)\n",
    "# model.save(\"animal_detection_model\")\n",
    "# Save only the weights of the model\n",
    "# Пример изменения имени файла для сохранения весов модели\n",
    "model.save_weights('D://animals-detection-images-dataset_//animal_detection_model.weights.h5')\n",
    "model.save('D://animals-detection-images-dataset_//animal_detection_model.h5')\n",
    "model.save('D://animals-detection-images-dataset_//animal_detection_model.keras')\n",
    "   \n",
    "\n",
    "\n",
    "   \n"
   ]
  }
 ],
 "metadata": {
  "kaggle": {
   "accelerator": "none",
   "dataSources": [
    {
     "datasetId": 1316317,
     "sourceId": 2197760,
     "sourceType": "datasetVersion"
    }
   ],
   "dockerImageVersionId": 30804,
   "isGpuEnabled": false,
   "isInternetEnabled": false,
   "language": "python",
   "sourceType": "notebook"
  },
  "kernelspec": {
   "display_name": "Python 3",
   "language": "python",
   "name": "python3"
  },
  "language_info": {
   "codemirror_mode": {
    "name": "ipython",
    "version": 3
   },
   "file_extension": ".py",
   "mimetype": "text/x-python",
   "name": "python",
   "nbconvert_exporter": "python",
   "pygments_lexer": "ipython3",
   "version": "3.9.7"
  }
 },
 "nbformat": 4,
 "nbformat_minor": 4
}
